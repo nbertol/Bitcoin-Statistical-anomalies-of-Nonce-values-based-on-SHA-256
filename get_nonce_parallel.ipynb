{
 "cells": [
  {
   "cell_type": "code",
   "execution_count": 1,
   "id": "95049ff9-fac3-4a6a-9f37-b911da6af8a1",
   "metadata": {},
   "outputs": [],
   "source": [
    "import numpy as np\n",
    "import requests\n",
    "from joblib import Parallel, delayed"
   ]
  },
  {
   "cell_type": "code",
   "execution_count": 2,
   "id": "38484bbb-bc31-4eb2-8732-3bd88a306950",
   "metadata": {},
   "outputs": [],
   "source": [
    "def umavez(c):\n",
    "    link = c[0][0]\n",
    "    link_name = c[0][1]\n",
    "    n = c[1]\n",
    "    kurl = link + '{}'.format(n)\n",
    "    block = requests.get(kurl)\n",
    "\n",
    "    # Check if the API request was successful\n",
    "    if block.status_code != 200:\n",
    "        r = 'erro'\n",
    "    else:\n",
    "        r = block.json()\n",
    "\n",
    "    return [link_name, n, r]"
   ]
  },
  {
   "cell_type": "code",
   "execution_count": 3,
   "id": "0a886d33-d453-48b1-be71-d64ea5c27a14",
   "metadata": {},
   "outputs": [],
   "source": [
    "link_bitcoin = \"https://chain.api.btc.com/v3/block/\""
   ]
  },
  {
   "cell_type": "code",
   "execution_count": 5,
   "id": "6a460344-6166-4914-8490-3cb166ec311f",
   "metadata": {},
   "outputs": [],
   "source": [
    "links = [[link_bitcoin,'bitcoin']]\n",
    "\n",
    "ns = np.arange(769787,823630)\n",
    "\n",
    "combinations = [[link,n] for link in links for n in ns]"
   ]
  },
  {
   "cell_type": "code",
   "execution_count": null,
   "id": "2424d2c0-b8ee-4b50-b822-2ef27da40e0c",
   "metadata": {},
   "outputs": [],
   "source": [
    "# Dont need to run. It just checks the time when is not parallel for curiosity (recommend to check for a few blocks)\n",
    "'''\n",
    "%%time\n",
    "data = []\n",
    "for combination in combinations:\n",
    "    data.append(umavez(combination))\n",
    "'''"
   ]
  },
  {
   "cell_type": "code",
   "execution_count": null,
   "id": "0c168ab0-3431-4f46-88ac-47600ae0d9e6",
   "metadata": {},
   "outputs": [],
   "source": [
    "'''\n",
    "print(data[0])\n",
    "'''"
   ]
  },
  {
   "cell_type": "code",
   "execution_count": 6,
   "id": "64e1f86c-5140-467c-9bf8-61bcbacdad0e",
   "metadata": {},
   "outputs": [],
   "source": [
    "def blocos_paralelos(combinations):\n",
    "    r = Parallel(n_jobs=-1)(delayed(umavez)(combination) for combination in combinations)\n",
    "    return r"
   ]
  },
  {
   "cell_type": "code",
   "execution_count": 7,
   "id": "d4b05ebd-e75f-4165-bd3c-ebfef93357df",
   "metadata": {},
   "outputs": [
    {
     "name": "stdout",
     "output_type": "stream",
     "text": [
      "CPU times: total: 23.2 s\n",
      "Wall time: 2h 2min 14s\n"
     ]
    }
   ],
   "source": [
    "#run parallel\n",
    "%%time\n",
    "results = blocos_paralelos(combinations)"
   ]
  },
  {
   "cell_type": "code",
   "execution_count": 8,
   "id": "6d382c64-a2d7-407c-8c8c-a4c84e75625a",
   "metadata": {},
   "outputs": [
    {
     "data": {
      "text/plain": [
       "array([{'data': {'height': 769787, 'version': 549453824, 'mrkl_root': '2555a6deaf201850e7c7b9cd0576d338abe3c6cf125f1b7e5ba1c84a66e567a7', 'timestamp': 1672531222, 'bits': 386397584, 'nonce': 3144310818, 'hash': '00000000000000000000ab6f2ba297568c9f7b1cdabb02ace83f1c18ac0642a3', 'prev_block_hash': '000000000000000000017f6405c2382de84944eb21be9cec0379a735813f137b', 'next_block_hash': '000000000000000000010bbab64e2eb34328e7b8d65fcea6fb41248197db5b3e', 'size': 1467472, 'pool_difficulty': 420317237421852, 'difficulty': 35364065900457, 'difficulty_double': 35364065900457.12, 'tx_count': 3146, 'reward_block': 625000000, 'reward_fees': 14178828, 'confirmations': 69072, 'is_orphan': False, 'curr_max_timestamp': 1672531222, 'is_sw_block': True, 'stripped_size': 841802, 'sigops': 17975, 'weight': 3992878, 'extras': {'pool_name': 'Foundry USA', 'pool_link': 'https://foundrydigital.com/'}}, 'err_code': 0, 'err_no': 0, 'message': 'success', 'status': 'success'},\n",
       "       {'data': {'height': 769788, 'version': 536870912, 'mrkl_root': 'e104c93fafd35baf8ac5d221d4f193a6be3a6ea268c9f2c6392145b29e4191f1', 'timestamp': 1672531469, 'bits': 386397584, 'nonce': 3992422450, 'hash': '000000000000000000010bbab64e2eb34328e7b8d65fcea6fb41248197db5b3e', 'prev_block_hash': '00000000000000000000ab6f2ba297568c9f7b1cdabb02ace83f1c18ac0642a3', 'next_block_hash': '00000000000000000000edb96116bcc4b0816d2f118309ed01e0194548615307', 'size': 1429157, 'pool_difficulty': 269142119681532, 'difficulty': 35364065900457, 'difficulty_double': 35364065900457.12, 'tx_count': 1250, 'reward_block': 625000000, 'reward_fees': 9046623, 'confirmations': 69071, 'is_orphan': False, 'curr_max_timestamp': 1672531469, 'is_sw_block': True, 'stripped_size': 854670, 'sigops': 8583, 'weight': 3993167, 'extras': {'pool_name': 'Poolin', 'pool_link': 'https://www.poolin.com/'}}, 'err_code': 0, 'err_no': 0, 'message': 'success', 'status': 'success'},\n",
       "       {'data': {'height': 769789, 'version': 545259520, 'mrkl_root': '3002622e0fd9c3b9c0a23cab55c27991df6e18697cefbdc5ed513249f9f6aabf', 'timestamp': 1672531623, 'bits': 386397584, 'nonce': 168520590, 'hash': '00000000000000000000edb96116bcc4b0816d2f118309ed01e0194548615307', 'prev_block_hash': '000000000000000000010bbab64e2eb34328e7b8d65fcea6fb41248197db5b3e', 'next_block_hash': '0000000000000000000048b3ce5bf1c1dccb0adef788043693b68b2b61ba5f2a', 'size': 1823044, 'pool_difficulty': 303111599302181, 'difficulty': 35364065900457, 'difficulty_double': 35364065900457.12, 'tx_count': 417, 'reward_block': 625000000, 'reward_fees': 3603850, 'confirmations': 69070, 'is_orphan': False, 'curr_max_timestamp': 1672531623, 'is_sw_block': True, 'stripped_size': 723387, 'sigops': 11627, 'weight': 3993205, 'extras': {'pool_name': 'AntPool', 'pool_link': 'https://www.antpool.com/'}}, 'err_code': 0, 'err_no': 0, 'message': 'success', 'status': 'success'},\n",
       "       ...,\n",
       "       {'data': {'height': 823627, 'version': 812933120, 'mrkl_root': '8a0b1ed6c536019e8df79dbdee51979cf50d2232a6b75b95e9162d5ddfa0b33f', 'timestamp': 1703979028, 'bits': 386132147, 'nonce': 3920178762, 'hash': '000000000000000000015abafea9514fb7219dfe62ada907430fab9352ef43a9', 'prev_block_hash': '00000000000000000001f2987709e3f100f4ae3a0ecb17fab04b4b7ac569bebf', 'next_block_hash': '00000000000000000001ba46eedcacc8adc03eb1b632064ddfc194468311d426', 'size': 1747828, 'pool_difficulty': 207819366381253, 'difficulty': 72006146478567, 'difficulty_double': 72006146478567.1, 'tx_count': 5345, 'reward_block': 625000000, 'reward_fees': 144723021, 'confirmations': 15240, 'is_orphan': False, 'curr_max_timestamp': 1703979028, 'is_sw_block': True, 'stripped_size': 748428, 'sigops': 4600, 'weight': 3993112, 'extras': {'pool_name': 'Binance Pool', 'pool_link': 'https://pool.binance.com/'}}, 'err_code': 0, 'err_no': 0, 'message': 'success', 'status': 'success'},\n",
       "       {'data': {'height': 823628, 'version': 973078528, 'mrkl_root': '6683f1bca942f77a9834ee759985c273f422aca5187edf88370586a29641ab4b', 'timestamp': 1703979144, 'bits': 386132147, 'nonce': 3403861060, 'hash': '00000000000000000001ba46eedcacc8adc03eb1b632064ddfc194468311d426', 'prev_block_hash': '000000000000000000015abafea9514fb7219dfe62ada907430fab9352ef43a9', 'next_block_hash': '00000000000000000002b5d88718343fda37e359c425f8e02133da74185591d5', 'size': 1889320, 'pool_difficulty': 162922953125124, 'difficulty': 72006146478567, 'difficulty_double': 72006146478567.1, 'tx_count': 5746, 'reward_block': 625000000, 'reward_fees': 127906420, 'confirmations': 15239, 'is_orphan': False, 'curr_max_timestamp': 1703979144, 'is_sw_block': True, 'stripped_size': 701401, 'sigops': 3678, 'weight': 3993523, 'extras': {'pool_name': 'AntPool', 'pool_link': 'https://www.antpool.com/'}}, 'err_code': 0, 'err_no': 0, 'message': 'success', 'status': 'success'},\n",
       "       {'data': {'height': 823629, 'version': 536895488, 'mrkl_root': 'dcb2da2d394771b2bd2b74b11be924d8af7c3396806440bd0d11605e3196d9a7', 'timestamp': 1703979610, 'bits': 386132147, 'nonce': 233615780, 'hash': '00000000000000000002b5d88718343fda37e359c425f8e02133da74185591d5', 'prev_block_hash': '00000000000000000001ba46eedcacc8adc03eb1b632064ddfc194468311d426', 'next_block_hash': '00000000000000000003dc04f7e09707f873a79594396e81c95b23c3f18d5028', 'size': 1610317, 'pool_difficulty': 103851183391505, 'difficulty': 72006146478567, 'difficulty_double': 72006146478567.1, 'tx_count': 4477, 'reward_block': 625000000, 'reward_fees': 146829460, 'confirmations': 15238, 'is_orphan': False, 'curr_max_timestamp': 1703979610, 'is_sw_block': True, 'stripped_size': 794231, 'sigops': 7607, 'weight': 3993010, 'extras': {'pool_name': 'Foundry USA', 'pool_link': 'https://foundrydigital.com/'}}, 'err_code': 0, 'err_no': 0, 'message': 'success', 'status': 'success'}],\n",
       "      dtype=object)"
      ]
     },
     "execution_count": 8,
     "metadata": {},
     "output_type": "execute_result"
    }
   ],
   "source": [
    "#results[0]\n",
    "np.array(results).T[2]"
   ]
  },
  {
   "cell_type": "code",
   "execution_count": 9,
   "id": "28f1a6e1",
   "metadata": {},
   "outputs": [
    {
     "name": "stdout",
     "output_type": "stream",
     "text": [
      "Height, Hexadecimal Nonce and Decimal Nonce values saved to nonces.txt\n"
     ]
    }
   ],
   "source": [
    "#save in a txt file the values that you need from results\n",
    "with open('nonces.txt', 'w') as file:\n",
    "    for item in results:\n",
    "        lala = item[2]\n",
    "        if 'data' in lala:\n",
    "            if 'nonce' in lala['data']:\n",
    "                nonce_value = lala['data']['nonce']\n",
    "                hex_nonce_value = hex(nonce_value) \n",
    "                height_value = lala['data'].get('height', 'Height not available')\n",
    "                file.write(f\"{height_value} {hex_nonce_value} {nonce_value} \\n\")\n",
    "\n",
    "print(\"Height, Hexadecimal Nonce and Decimal Nonce values saved to nonces.txt\")\n"
   ]
  }
 ],
 "metadata": {
  "kernelspec": {
   "display_name": "Python 3 (ipykernel)",
   "language": "python",
   "name": "python3"
  },
  "language_info": {
   "codemirror_mode": {
    "name": "ipython",
    "version": 3
   },
   "file_extension": ".py",
   "mimetype": "text/x-python",
   "name": "python",
   "nbconvert_exporter": "python",
   "pygments_lexer": "ipython3",
   "version": "3.9.12"
  }
 },
 "nbformat": 4,
 "nbformat_minor": 5
}
